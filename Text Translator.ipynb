{
 "cells": [
  {
   "cell_type": "markdown",
   "id": "3968cff8",
   "metadata": {},
   "source": [
    "## Speech to Text"
   ]
  },
  {
   "cell_type": "code",
   "execution_count": 1,
   "id": "ca2b5839",
   "metadata": {},
   "outputs": [
    {
     "name": "stdout",
     "output_type": "stream",
     "text": [
      "Requirement already satisfied: ibm_watson in c:\\users\\sinha\\appdata\\local\\programs\\python\\python39\\lib\\site-packages (5.3.0)\n",
      "Requirement already satisfied: wget in c:\\users\\sinha\\appdata\\local\\programs\\python\\python39\\lib\\site-packages (3.2)\n",
      "Requirement already satisfied: requests<3.0,>=2.0 in c:\\users\\sinha\\appdata\\local\\programs\\python\\python39\\lib\\site-packages (from ibm_watson) (2.26.0)\n",
      "Requirement already satisfied: ibm-cloud-sdk-core==3.*,>=3.3.6 in c:\\users\\sinha\\appdata\\local\\programs\\python\\python39\\lib\\site-packages (from ibm_watson) (3.11.3)\n",
      "Requirement already satisfied: python-dateutil>=2.5.3 in c:\\users\\sinha\\appdata\\local\\programs\\python\\python39\\lib\\site-packages (from ibm_watson) (2.8.2)\n",
      "Requirement already satisfied: websocket-client==1.1.0 in c:\\users\\sinha\\appdata\\local\\programs\\python\\python39\\lib\\site-packages (from ibm_watson) (1.1.0)\n",
      "Requirement already satisfied: PyJWT<3.0.0,>=2.0.1 in c:\\users\\sinha\\appdata\\local\\programs\\python\\python39\\lib\\site-packages (from ibm-cloud-sdk-core==3.*,>=3.3.6->ibm_watson) (2.1.0)\n",
      "Requirement already satisfied: six>=1.5 in c:\\users\\sinha\\appdata\\local\\programs\\python\\python39\\lib\\site-packages (from python-dateutil>=2.5.3->ibm_watson) (1.16.0)\n",
      "Requirement already satisfied: idna<4,>=2.5 in c:\\users\\sinha\\appdata\\local\\programs\\python\\python39\\lib\\site-packages (from requests<3.0,>=2.0->ibm_watson) (3.2)\n",
      "Requirement already satisfied: charset-normalizer~=2.0.0 in c:\\users\\sinha\\appdata\\local\\programs\\python\\python39\\lib\\site-packages (from requests<3.0,>=2.0->ibm_watson) (2.0.6)\n",
      "Requirement already satisfied: urllib3<1.27,>=1.21.1 in c:\\users\\sinha\\appdata\\local\\programs\\python\\python39\\lib\\site-packages (from requests<3.0,>=2.0->ibm_watson) (1.26.7)\n",
      "Requirement already satisfied: certifi>=2017.4.17 in c:\\users\\sinha\\appdata\\local\\programs\\python\\python39\\lib\\site-packages (from requests<3.0,>=2.0->ibm_watson) (2021.5.30)\n"
     ]
    }
   ],
   "source": [
    "# First you will need this library\n",
    "!pip install ibm_watson wget"
   ]
  },
  {
   "cell_type": "code",
   "execution_count": 2,
   "id": "cdf18a6b",
   "metadata": {},
   "outputs": [],
   "source": [
    "# Now import SpeechToTextV1 from ibm_watson\n",
    "from ibm_watson import SpeechToTextV1 \n",
    "import json\n",
    "from ibm_cloud_sdk_core.authenticators import IAMAuthenticator"
   ]
  },
  {
   "cell_type": "markdown",
   "id": "6d8e38ce",
   "metadata": {},
   "source": [
    "**We are now storing the information to the variable url ----**"
   ]
  },
  {
   "cell_type": "code",
   "execution_count": 3,
   "id": "3eaa9840",
   "metadata": {},
   "outputs": [],
   "source": [
    "url_s2t = \"https://api.us-south.speech-to-text.watson.cloud.ibm.com/instances/6fc26269-da38-437b-9163-243b2eb6b9c5\""
   ]
  },
  {
   "cell_type": "markdown",
   "id": "c49fb7ba",
   "metadata": {},
   "source": [
    "**Now we will need the API Key ---**"
   ]
  },
  {
   "cell_type": "code",
   "execution_count": 4,
   "id": "02e8eeb0",
   "metadata": {},
   "outputs": [],
   "source": [
    "iam_apikey_s2t = \"9AJA2_RkXitgYLzFvEpLyD4VPgI4blCdinSBvGs1dvSS\""
   ]
  },
  {
   "cell_type": "markdown",
   "id": "3e5e4569",
   "metadata": {},
   "source": [
    "#### Creating the speech to text object."
   ]
  },
  {
   "cell_type": "code",
   "execution_count": 5,
   "id": "221926cd",
   "metadata": {},
   "outputs": [],
   "source": [
    "authenticator = IAMAuthenticator(iam_apikey_s2t)\n",
    "s2t = SpeechToTextV1(authenticator=authenticator)\n",
    "s2t.set_service_url(url_s2t)"
   ]
  },
  {
   "cell_type": "code",
   "execution_count": 6,
   "id": "5ad71439",
   "metadata": {},
   "outputs": [
    {
     "data": {
      "text/plain": [
       "<ibm_watson.speech_to_text_v1_adapter.SpeechToTextV1Adapter at 0x16c3ae155b0>"
      ]
     },
     "execution_count": 6,
     "metadata": {},
     "output_type": "execute_result"
    }
   ],
   "source": [
    "s2t"
   ]
  },
  {
   "cell_type": "markdown",
   "id": "a966b33f",
   "metadata": {},
   "source": [
    "**Now we are creating .wav file for converting speech to text ---**"
   ]
  },
  {
   "cell_type": "code",
   "execution_count": 7,
   "id": "e9b375c3",
   "metadata": {},
   "outputs": [],
   "source": [
    "filename='PolynomialRegressionandPipelines.mp3'"
   ]
  },
  {
   "cell_type": "code",
   "execution_count": 8,
   "id": "923be154",
   "metadata": {},
   "outputs": [],
   "source": [
    "with open(filename, mode=\"rb\") as wav:\n",
    "    response = s2t.recognize(audio=wav, content_type='audio/mp3')"
   ]
  },
  {
   "cell_type": "markdown",
   "id": "da14ce51",
   "metadata": {},
   "source": [
    "**For getting the result ---**"
   ]
  },
  {
   "cell_type": "code",
   "execution_count": 9,
   "id": "23d821de",
   "metadata": {},
   "outputs": [
    {
     "data": {
      "text/plain": [
       "{'result_index': 0,\n",
       " 'results': [{'final': True,\n",
       "   'alternatives': [{'transcript': 'in this video we will cover polynomial regression and pipelines ',\n",
       "     'confidence': 0.94}]},\n",
       "  {'final': True,\n",
       "   'alternatives': [{'transcript': \"what do we do when a linear model is not the best fit for our data let's look into another type of regression model the polynomial regression we transform our data \",\n",
       "     'confidence': 0.9}]}]}"
      ]
     },
     "execution_count": 9,
     "metadata": {},
     "output_type": "execute_result"
    }
   ],
   "source": [
    "response.result"
   ]
  },
  {
   "cell_type": "code",
   "execution_count": 10,
   "id": "2ef73856",
   "metadata": {},
   "outputs": [],
   "source": [
    "recognized_text=response.result['results'][0][\"alternatives\"][0][\"transcript\"]"
   ]
  },
  {
   "cell_type": "code",
   "execution_count": 11,
   "id": "82ff4056",
   "metadata": {},
   "outputs": [
    {
     "data": {
      "text/plain": [
       "'in this video we will cover polynomial regression and pipelines '"
      ]
     },
     "execution_count": 11,
     "metadata": {},
     "output_type": "execute_result"
    }
   ],
   "source": [
    "recognized_text"
   ]
  },
  {
   "cell_type": "code",
   "execution_count": 12,
   "id": "e5d806ad",
   "metadata": {},
   "outputs": [
    {
     "data": {
      "text/plain": [
       "str"
      ]
     },
     "execution_count": 12,
     "metadata": {},
     "output_type": "execute_result"
    }
   ],
   "source": [
    "type(recognized_text)"
   ]
  },
  {
   "cell_type": "markdown",
   "id": "28b0cf8c",
   "metadata": {},
   "source": [
    "## Language Translator"
   ]
  },
  {
   "cell_type": "code",
   "execution_count": 13,
   "id": "570f21fc",
   "metadata": {},
   "outputs": [],
   "source": [
    "# Now import LanguageTranslatorV3 from ibm_watson\n",
    "from ibm_watson import LanguageTranslatorV3"
   ]
  },
  {
   "cell_type": "markdown",
   "id": "b637f740",
   "metadata": {},
   "source": [
    "**We are now storing the information to the variable url ----**"
   ]
  },
  {
   "cell_type": "code",
   "execution_count": 14,
   "id": "d3c3c448",
   "metadata": {},
   "outputs": [],
   "source": [
    "url_lt= \"https://api.us-south.language-translator.watson.cloud.ibm.com/instances/f7e8956e-87de-409d-a2de-10bc6eff7856\""
   ]
  },
  {
   "cell_type": "markdown",
   "id": "186d8b99",
   "metadata": {},
   "source": [
    "**Now we will need the API Key ---**"
   ]
  },
  {
   "cell_type": "code",
   "execution_count": 15,
   "id": "5e80c0aa",
   "metadata": {},
   "outputs": [],
   "source": [
    "apikey_lt = \"yX1tcCh1bLpFb73HGauRT62Jv3GX78EnikfJCeBXrfcB\""
   ]
  },
  {
   "cell_type": "markdown",
   "id": "22213391",
   "metadata": {},
   "source": [
    "**API request also require the current version of apikey.**"
   ]
  },
  {
   "cell_type": "code",
   "execution_count": 16,
   "id": "9a062966",
   "metadata": {},
   "outputs": [],
   "source": [
    "version_lt = \"2021-09-10\""
   ]
  },
  {
   "cell_type": "markdown",
   "id": "983a523c",
   "metadata": {},
   "source": [
    "#### Creating the language translator object"
   ]
  },
  {
   "cell_type": "code",
   "execution_count": 17,
   "id": "a135f3ca",
   "metadata": {},
   "outputs": [],
   "source": [
    "authenticator = IAMAuthenticator(apikey_lt)\n",
    "language_translator = LanguageTranslatorV3(version=version_lt,authenticator=authenticator)\n",
    "language_translator.set_service_url(url_lt)"
   ]
  },
  {
   "cell_type": "code",
   "execution_count": 18,
   "id": "18bf72ba",
   "metadata": {},
   "outputs": [
    {
     "data": {
      "text/plain": [
       "<ibm_watson.language_translator_v3.LanguageTranslatorV3 at 0x16c3ae75610>"
      ]
     },
     "execution_count": 18,
     "metadata": {},
     "output_type": "execute_result"
    }
   ],
   "source": [
    "language_translator"
   ]
  },
  {
   "cell_type": "code",
   "execution_count": 19,
   "id": "e7d9edf3",
   "metadata": {
    "scrolled": true
   },
   "outputs": [
    {
     "data": {
      "text/plain": [
       "{'languages': [{'language': 'af', 'name': 'Afrikaans'},\n",
       "  {'language': 'ar', 'name': 'Arabic'},\n",
       "  {'language': 'az', 'name': 'Azerbaijani'},\n",
       "  {'language': 'ba', 'name': 'Bashkir'},\n",
       "  {'language': 'be', 'name': 'Belarusian'},\n",
       "  {'language': 'bg', 'name': 'Bulgarian'},\n",
       "  {'language': 'bn', 'name': 'Bengali'},\n",
       "  {'language': 'ca', 'name': 'Catalan'},\n",
       "  {'language': 'cs', 'name': 'Czech'},\n",
       "  {'language': 'cv', 'name': 'Chuvash'},\n",
       "  {'language': 'cy', 'name': 'Welsh'},\n",
       "  {'language': 'da', 'name': 'Danish'},\n",
       "  {'language': 'de', 'name': 'German'},\n",
       "  {'language': 'el', 'name': 'Greek'},\n",
       "  {'language': 'en', 'name': 'English'},\n",
       "  {'language': 'eo', 'name': 'Esperanto'},\n",
       "  {'language': 'es', 'name': 'Spanish'},\n",
       "  {'language': 'et', 'name': 'Estonian'},\n",
       "  {'language': 'eu', 'name': 'Basque'},\n",
       "  {'language': 'fa', 'name': 'Persian'},\n",
       "  {'language': 'fi', 'name': 'Finnish'},\n",
       "  {'language': 'fr', 'name': 'French'},\n",
       "  {'language': 'ga', 'name': 'Irish'},\n",
       "  {'language': 'gu', 'name': 'Gujarati'},\n",
       "  {'language': 'he', 'name': 'Hebrew'},\n",
       "  {'language': 'hi', 'name': 'Hindi'},\n",
       "  {'language': 'hr', 'name': 'Croatian'},\n",
       "  {'language': 'ht', 'name': 'Haitian'},\n",
       "  {'language': 'hu', 'name': 'Hungarian'},\n",
       "  {'language': 'hy', 'name': 'Armenian'},\n",
       "  {'language': 'is', 'name': 'Icelandic'},\n",
       "  {'language': 'it', 'name': 'Italian'},\n",
       "  {'language': 'ja', 'name': 'Japanese'},\n",
       "  {'language': 'ka', 'name': 'Georgian'},\n",
       "  {'language': 'kk', 'name': 'Kazakh'},\n",
       "  {'language': 'km', 'name': 'Central Khmer'},\n",
       "  {'language': 'ko', 'name': 'Korean'},\n",
       "  {'language': 'ku', 'name': 'Kurdish'},\n",
       "  {'language': 'ky', 'name': 'Kirghiz'},\n",
       "  {'language': 'lo', 'name': 'Lao'},\n",
       "  {'language': 'lt', 'name': 'Lithuanian'},\n",
       "  {'language': 'lv', 'name': 'Latvian'},\n",
       "  {'language': 'ml', 'name': 'Malayalam'},\n",
       "  {'language': 'mn', 'name': 'Mongolian'},\n",
       "  {'language': 'mr', 'name': 'Marathi'},\n",
       "  {'language': 'ms', 'name': 'Malay'},\n",
       "  {'language': 'mt', 'name': 'Maltese'},\n",
       "  {'language': 'my', 'name': 'Burmese'},\n",
       "  {'language': 'nb', 'name': 'Norwegian Bokmal'},\n",
       "  {'language': 'ne', 'name': 'Nepali'},\n",
       "  {'language': 'nl', 'name': 'Dutch'},\n",
       "  {'language': 'nn', 'name': 'Norwegian Nynorsk'},\n",
       "  {'language': 'pa', 'name': 'Punjabi'},\n",
       "  {'language': 'pa-PK', 'name': 'Punjabi (Shahmukhi script, Pakistan)'},\n",
       "  {'language': 'pl', 'name': 'Polish'},\n",
       "  {'language': 'ps', 'name': 'Pushto'},\n",
       "  {'language': 'pt', 'name': 'Portuguese'},\n",
       "  {'language': 'ro', 'name': 'Romanian'},\n",
       "  {'language': 'ru', 'name': 'Russian'},\n",
       "  {'language': 'si', 'name': 'Sinhala'},\n",
       "  {'language': 'sk', 'name': 'Slovakian'},\n",
       "  {'language': 'sl', 'name': 'Slovenian'},\n",
       "  {'language': 'so', 'name': 'Somali'},\n",
       "  {'language': 'sq', 'name': 'Albanian'},\n",
       "  {'language': 'sr', 'name': 'Serbian'},\n",
       "  {'language': 'sv', 'name': 'Swedish'},\n",
       "  {'language': 'ta', 'name': 'Tamil'},\n",
       "  {'language': 'te', 'name': 'Telugu'},\n",
       "  {'language': 'th', 'name': 'Thai'},\n",
       "  {'language': 'tl', 'name': 'Tagalog'},\n",
       "  {'language': 'tr', 'name': 'Turkish'},\n",
       "  {'language': 'uk', 'name': 'Ukrainian'},\n",
       "  {'language': 'ur', 'name': 'Urdu'},\n",
       "  {'language': 'vi', 'name': 'Vietnamese'},\n",
       "  {'language': 'zh', 'name': 'Simplified Chinese'},\n",
       "  {'language': 'zh-TW', 'name': 'Traditional Chinese'}]}"
      ]
     },
     "execution_count": 19,
     "metadata": {},
     "output_type": "execute_result"
    }
   ],
   "source": [
    "language_translator.list_identifiable_languages().get_result()"
   ]
  },
  {
   "cell_type": "markdown",
   "id": "ce5fcca6",
   "metadata": {},
   "source": [
    "**Now, we are translating the sentence which we get from the speech to text generator.**"
   ]
  },
  {
   "cell_type": "code",
   "execution_count": 20,
   "id": "c4ef192d",
   "metadata": {},
   "outputs": [
    {
     "data": {
      "text/plain": [
       "<ibm_cloud_sdk_core.detailed_response.DetailedResponse at 0x16c3ae75850>"
      ]
     },
     "execution_count": 20,
     "metadata": {},
     "output_type": "execute_result"
    }
   ],
   "source": [
    "translation_response = language_translator.translate(text=recognized_text, model_id='en-fr')\n",
    "translation_response"
   ]
  },
  {
   "cell_type": "markdown",
   "id": "1a91f987",
   "metadata": {},
   "source": [
    "**Now, we are implementing the method to get the result from translation.**"
   ]
  },
  {
   "cell_type": "code",
   "execution_count": 21,
   "id": "d586c760",
   "metadata": {},
   "outputs": [
    {
     "data": {
      "text/plain": [
       "{'translations': [{'translation': 'Dans cette vidéo, nous couvrons la régression polynomiale et les pipelines '}],\n",
       " 'word_count': 10,\n",
       " 'character_count': 64}"
      ]
     },
     "execution_count": 21,
     "metadata": {},
     "output_type": "execute_result"
    }
   ],
   "source": [
    "translation=translation_response.get_result()\n",
    "translation"
   ]
  },
  {
   "cell_type": "markdown",
   "id": "bdf09307",
   "metadata": {},
   "source": [
    "**Obtaining the actual translated string which is in French**"
   ]
  },
  {
   "cell_type": "code",
   "execution_count": 22,
   "id": "a47d3c37",
   "metadata": {},
   "outputs": [
    {
     "data": {
      "text/plain": [
       "'Dans cette vidéo, nous couvrons la régression polynomiale et les pipelines '"
      ]
     },
     "execution_count": 22,
     "metadata": {},
     "output_type": "execute_result"
    }
   ],
   "source": [
    "spanish_translation =translation['translations'][0]['translation']\n",
    "spanish_translation "
   ]
  },
  {
   "cell_type": "markdown",
   "id": "2dfd819e",
   "metadata": {},
   "source": [
    "**Again translating the string to English**"
   ]
  },
  {
   "cell_type": "code",
   "execution_count": 23,
   "id": "1343cec4",
   "metadata": {},
   "outputs": [],
   "source": [
    "translation_new = language_translator.translate(text=spanish_translation ,model_id='fr-en').get_result()"
   ]
  },
  {
   "cell_type": "code",
   "execution_count": 24,
   "id": "bf59e0cc",
   "metadata": {},
   "outputs": [
    {
     "data": {
      "text/plain": [
       "{'translations': [{'translation': 'In this video, we cover polynomial regression and pipelines '}],\n",
       " 'word_count': 12,\n",
       " 'character_count': 75}"
      ]
     },
     "execution_count": 24,
     "metadata": {},
     "output_type": "execute_result"
    }
   ],
   "source": [
    "translation_new "
   ]
  },
  {
   "cell_type": "code",
   "execution_count": 25,
   "id": "99e7fdb8",
   "metadata": {},
   "outputs": [],
   "source": [
    "translation_eng = translation_new['translations'][0]['translation']"
   ]
  },
  {
   "cell_type": "code",
   "execution_count": 26,
   "id": "ea2b1f3a",
   "metadata": {},
   "outputs": [
    {
     "data": {
      "text/plain": [
       "'In this video, we cover polynomial regression and pipelines '"
      ]
     },
     "execution_count": 26,
     "metadata": {},
     "output_type": "execute_result"
    }
   ],
   "source": [
    "translation_eng"
   ]
  }
 ],
 "metadata": {
  "kernelspec": {
   "display_name": "Python 3 (ipykernel)",
   "language": "python",
   "name": "python3"
  },
  "language_info": {
   "codemirror_mode": {
    "name": "ipython",
    "version": 3
   },
   "file_extension": ".py",
   "mimetype": "text/x-python",
   "name": "python",
   "nbconvert_exporter": "python",
   "pygments_lexer": "ipython3",
   "version": "3.9.7"
  }
 },
 "nbformat": 4,
 "nbformat_minor": 5
}
